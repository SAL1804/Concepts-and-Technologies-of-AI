{
 "cells": [
  {
   "cell_type": "code",
   "execution_count": 29,
   "id": "2c9d94e0-9886-44f6-9138-fc527a1bdfd8",
   "metadata": {},
   "outputs": [],
   "source": [
    "#Task1 Task 1- Sum of Nested Lists:\n",
    " # Scenario: You have a list that contains numbers and other lists of numbers (nested lists).\n",
    " # You want to find the total sum of all the numbers in this structure.\n",
    " # Task:\n",
    " # • Write a recursive function sum_nested_list(nested_list) that:\n",
    " # 1. Takes a nested list (a list that can contain numbers or other lists of numbers) as\n",
    " # input.\n",
    " # 2. Sums all numbers at every depth level of the list, regardless of how deeply nested\n",
    " # the numbers are.\n",
    " # • Test the function with a sample nested list, such as\n",
    " # nested_list = [1, [2, [3, 4], 5], 6, [7, 8]].\n",
    " # The result should be the total sum of all the numbers\n",
    "\n",
    "def sum_nested_list(nested_list):\n",
    "    total = 0\n",
    "    for element in nested_list:\n",
    "        if isinstance(element, list):  # If the element is a list, recurse into it\n",
    "            total += sum_nested_list(element)  # Recursive call to sum nested lists\n",
    "        else:\n",
    "            total += element  # Add the number to the total\n",
    "    return total"
   ]
  },
  {
   "cell_type": "code",
   "execution_count": 30,
   "id": "9edaae15-040f-4f9e-a615-ccc0ceff61bd",
   "metadata": {},
   "outputs": [
    {
     "name": "stdout",
     "output_type": "stream",
     "text": [
      "47\n"
     ]
    }
   ],
   "source": [
    "#with sample nested list\n",
    "nested_list = [3, [6, [5, 8], 9], 1, [7, 8]]\n",
    "result = sum_nested_list(nested_list)\n",
    "print(result)"
   ]
  },
  {
   "cell_type": "code",
   "execution_count": 31,
   "id": "fbde2c24-3bf5-4c96-af3e-0a8b21fae95e",
   "metadata": {},
   "outputs": [],
   "source": [
    "#Task2 GenerateAllPermutationsofaString:\n",
    " # Scenario:Givenastring,generateallpossiblepermutationsof itscharacters.Thisisuseful\n",
    " # forunderstandingbacktrackingandrecursivedepth-firstsearch.\n",
    " # Task:\n",
    " # •Writearecursivefunctiongenerate_permutations(s)that:–Takesastringsasinputandreturnsalistofalluniquepermutations.\n",
    " # •Testwithstringslike”abc”and”aab”.\n",
    " # print(generate_permutations(\"abc\"))\n",
    " # Shouldreturn [’abc’, ’acb’, ’bac’, ’bca’,’cab’, ’cba’]\n",
    "\n",
    "\n",
    "#To generate all possible unique permutations of its characters using recursion.\n",
    "def generate_permutations(b):\n",
    "    # if the string is empty or only one character, return the string itself\n",
    "    if len(b) <= 1:\n",
    "        return [b]\n",
    "\n",
    "    unique_permutations = set()  # Using set to avoid duplicate permutations\n",
    "    for i in range(len(b)):\n",
    "        # For each character in the string, generate permutations of the remaining characters\n",
    "        remaining = b[:i] + b[i+1:]\n",
    "        for perm in generate_permutations(remaining):\n",
    "            unique_permutations.add(b[i] + perm)  # Add the current character to each permutation\n",
    "\n",
    "    return list(unique_permutations)"
   ]
  },
  {
   "cell_type": "code",
   "execution_count": 32,
   "id": "22cddd85-c3ea-4bfc-a35a-810c575e08ec",
   "metadata": {},
   "outputs": [
    {
     "name": "stdout",
     "output_type": "stream",
     "text": [
      "['cba', 'abc', 'acb', 'bca', 'bac', 'cab']\n",
      "['aba', 'baa', 'aab']\n"
     ]
    }
   ],
   "source": [
    "# Test with the string \"abc\"\n",
    "print(generate_permutations(\"abc\"))\n",
    "\n",
    "# Test with the string \"aab\"\n",
    "print(generate_permutations(\"aab\"))\n"
   ]
  },
  {
   "cell_type": "code",
   "execution_count": 33,
   "id": "6d8f36b0-2969-4888-9422-d95246f88e29",
   "metadata": {},
   "outputs": [],
   "source": [
    "#Task3 DirectorySizeCalculation:\n",
    " # DirectorySizeCalculationScenario: Imagineafilesystemwheredirectoriescancontainfiles\n",
    " # (withsizesinKB)andotherdirectories.Youwanttocalculatethetotalsizeofadirectory,\n",
    " # includingallnestedfilesandsubdirectories.\n",
    "#  1. Write a recursive function calculate_directory_size(directory) where:\n",
    "#  • directory is a dictionary where keys represent file names (with values as sizes in\n",
    "#  KB) or directory names (with values as another dictionary representing a subdi\n",
    "# rectory).\n",
    "#  • The function should return the total size of the directory, including all nested\n",
    "#  subdirectories.\n",
    "#  2. Test the function with a sample directory structure\n",
    "\n",
    "#Recursively calculates the total size of a directory, including nested files and subdirectories.\n",
    "def calculate_directory_size(directory):\n",
    "    total_size = 0  # Initialize the total size\n",
    "\n",
    "    for key, value in directory.items():\n",
    "        if isinstance(value, int):  # If it's a file, add its size\n",
    "            total_size += value\n",
    "        elif isinstance(value, dict):  # If it's a subdirectory, recurse\n",
    "            total_size += calculate_directory_size(value)\n",
    "\n",
    "    return total_size\n"
   ]
  },
  {
   "cell_type": "code",
   "execution_count": 34,
   "id": "ecefa34b-0c85-4f1a-841f-e88f1b993836",
   "metadata": {},
   "outputs": [],
   "source": [
    "directory_structure = {\n",
    "    \"file1.txt\": 250,#250KB file\n",
    "    \"file2.txt\": 390,\n",
    "    \"subdir1\": {\n",
    "        \"file3.txt\": 400,\n",
    "        \"file4.txt\": 100\n",
    "    },\n",
    "    \"subdir2\": {\n",
    "        \"subsubdir1\": {\n",
    "            \"file5.txt\": 290\n",
    "        },\n",
    "        \"file6.txt\": 150\n",
    "    }\n",
    "}"
   ]
  },
  {
   "cell_type": "code",
   "execution_count": 35,
   "id": "874deadf-e8ed-4164-805d-26035c155fb1",
   "metadata": {},
   "outputs": [
    {
     "name": "stdout",
     "output_type": "stream",
     "text": [
      "Total directory size: 1580KB \n"
     ]
    }
   ],
   "source": [
    "# Testing the function\n",
    "total_size = calculate_directory_size(directory_structure)\n",
    "print(f\"Total directory size: {total_size}KB \")\n"
   ]
  },
  {
   "cell_type": "code",
   "execution_count": null,
   "id": "9b61666f-c3c5-470c-8577-7d8a1d3c48e0",
   "metadata": {},
   "outputs": [],
   "source": []
  }
 ],
 "metadata": {
  "kernelspec": {
   "display_name": "Python 3 (ipykernel)",
   "language": "python",
   "name": "python3"
  },
  "language_info": {
   "codemirror_mode": {
    "name": "ipython",
    "version": 3
   },
   "file_extension": ".py",
   "mimetype": "text/x-python",
   "name": "python",
   "nbconvert_exporter": "python",
   "pygments_lexer": "ipython3",
   "version": "3.12.7"
  }
 },
 "nbformat": 4,
 "nbformat_minor": 5
}
