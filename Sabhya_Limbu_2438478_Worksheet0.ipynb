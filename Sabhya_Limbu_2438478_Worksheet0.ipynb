{
 "cells": [
  {
   "cell_type": "code",
   "execution_count": 144,
   "id": "e85ba529-dfab-4eff-9495-0190578c2a9f",
   "metadata": {},
   "outputs": [],
   "source": [
    "#Task1 TO DO TASK\n",
    "# Task 1. Classify Temperatures:\n",
    "#  1. Create empty lists for temperature classifications:\n",
    "#  (a) Cold: temperatures below 10°C.\n",
    "#  (b) Mild: temperatures between 10°C and 15°C.\n",
    "#  (c) Comfortable: temperatures between 15°C and 20°C.\n",
    "#  2. Iterate over the temperatures list and add each temperature to the appropriate cate\n",
    "# gory.\n",
    "#  3. Print the lists to verify the classifications.\n",
    "\n",
    "# List of temperatures in Celsius measured at Tribhuwan International Airport\n",
    "temperatures = [\n",
    "    8.2, 17.4, 14.1, 7.9, 18.0, 13.5, 9.0, 17.8, 13.0, 8.5,\n",
    "    16.5, 12.9, 7.7, 17.2, 13.3, 8.4, 16.7, 14.0, 9.5, 18.3, 13.4, 8.1,\n",
    "    8.3, 16.4, 12.7, 8.9, 18.2, 13.1, 7.8,\n",
    "    16.6, 12.5,20.3,20.5,20.8,30.1,22.4,27.6\n",
    "]"
   ]
  },
  {
   "cell_type": "code",
   "execution_count": 145,
   "id": "a5d83a92-49a3-4e94-9bba-2d07ba28c6a4",
   "metadata": {},
   "outputs": [],
   "source": [
    "# Initializing empty lists for temperature classifications\n",
    "cold = []\n",
    "mild = []\n",
    "comfortable = []"
   ]
  },
  {
   "cell_type": "code",
   "execution_count": 146,
   "id": "aa53bfa9-7bf6-4d65-8768-c5bc06190a7d",
   "metadata": {},
   "outputs": [],
   "source": [
    "# Classifying each temperature\n",
    "for temp in temperatures:\n",
    "    if temp < 15:\n",
    "        cold.append(temp)\n",
    "    elif 15 <= temp <= 20:\n",
    "        mild.append(temp)\n",
    "    elif 20 < temp <= 30:\n",
    "        comfortable.append(temp)"
   ]
  },
  {
   "cell_type": "code",
   "execution_count": 147,
   "id": "dc081142-fc4b-4de1-b81c-fbfb21daedf1",
   "metadata": {},
   "outputs": [
    {
     "name": "stdout",
     "output_type": "stream",
     "text": [
      "Temperatures which are classified as cold: [8.2, 14.1, 7.9, 13.5, 9.0, 13.0, 8.5, 12.9, 7.7, 13.3, 8.4, 14.0, 9.5, 13.4, 8.1, 8.3, 12.7, 8.9, 13.1, 7.8, 12.5]\n",
      "Temperatures which are classified as mild: [17.4, 18.0, 17.8, 16.5, 17.2, 16.7, 18.3, 16.4, 18.2, 16.6]\n",
      "Temperatures which are classified as comfortable: [20.3, 20.5, 20.8, 22.4, 27.6]\n"
     ]
    }
   ],
   "source": [
    "# Print the classified temperatures\n",
    "print(\"Temperatures which are classified as cold:\", cold)\n",
    "print(\"Temperatures which are classified as mild:\", mild)\n",
    "print(\"Temperatures which are classified as comfortable:\", comfortable)"
   ]
  },
  {
   "cell_type": "code",
   "execution_count": 148,
   "id": "fc8510c9-f5fb-4a31-b3c2-8b67f93c7faf",
   "metadata": {},
   "outputs": [
    {
     "name": "stdout",
     "output_type": "stream",
     "text": [
      "Cold temperatures (below 10°C): 11\n",
      "Mild temperatures (10°C to 15°C): 10\n",
      "Comfortable temperatures (15°C to 20°C): 10\n"
     ]
    }
   ],
   "source": [
    "\n",
    "# Task 2. Based on Data- Answer all the Questions:\n",
    "#  1. How many times was it mild?\n",
    "#  (a) Hint: Count the number of items in the mild list and print the result.\n",
    "#  2. How many times was it comfortable?\n",
    "#  3. How many times was it cold?\n",
    "\n",
    "temperatures = [\n",
    "    8.2, 17.4, 14.1, 7.9, 18.0, 13.5, 9.0, 17.8, 13.0, 8.5,\n",
    "    16.5, 12.9, 7.7, 17.2, 13.3, 8.4, 16.7, 14.0, 9.5, 18.3, 13.4, 8.1,\n",
    "    8.3, 16.4, 12.7, 8.9, 18.2, 13.1, 7.8,\n",
    "    16.6, 12.5,20.3,20.5,20.8,30.1,22.4,27.6\n",
    "]\n",
    "\n",
    "# Occurrences of each temperature classification\n",
    "cold=0\n",
    "mild=0\n",
    "comfortable=0\n",
    "for temp in temperatures:\n",
    "    if temp < 10:\n",
    "        cold+=1\n",
    "    elif 10 <= temp < 15:\n",
    "        mild+=1\n",
    "    elif 15 <= temp <= 20:\n",
    "        comfortable+=1\n",
    "print(\"Cold temperatures (below 10°C):\", cold)\n",
    "print(\"Mild temperatures (10°C to 15°C):\", mild)\n",
    "print(\"Comfortable temperatures (15°C to 20°C):\", comfortable)\n"
   ]
  },
  {
   "cell_type": "code",
   "execution_count": 149,
   "id": "c0dffba1-2384-4a93-a8e2-4628e76cf4fc",
   "metadata": {},
   "outputs": [
    {
     "name": "stdout",
     "output_type": "stream",
     "text": [
      "Converted Temperatures in Fahrenheit: [46.76, 63.32, 57.379999999999995, 46.22, 64.4, 56.3, 48.2, 64.04, 55.4, 47.3, 61.7, 55.22, 45.86, 62.959999999999994, 55.94, 47.120000000000005, 62.059999999999995, 57.2, 49.1, 64.94, 56.120000000000005, 46.58, 46.94, 61.519999999999996, 54.86, 48.02, 64.75999999999999, 55.58, 46.04, 61.88, 54.5, 68.54, 68.9, 69.44, 86.18, 72.32, 81.68]\n"
     ]
    }
   ],
   "source": [
    "# Task 3. Convert Temperatures from Celsius to Fahrenheit\n",
    "#  Using the formula for temperature conversion, convert each reading from Celsius to Fahren\n",
    "# heit and store it in a new list called temperatures_fahrenheit.\n",
    "#  Formula:\n",
    "#  Fahrenheit = (Celsius × 95 ) +32\n",
    "#  1. Iterate over the temperatures list and apply the formula to convert each temperature.\n",
    "#  2. Store the results in the new list.\n",
    "#  3. Print the converted Fahrenheit values\n",
    "\n",
    "temperatures = [\n",
    "    8.2, 17.4, 14.1, 7.9, 18.0, 13.5, 9.0, 17.8, 13.0, 8.5,\n",
    "    16.5, 12.9, 7.7, 17.2, 13.3, 8.4, 16.7, 14.0, 9.5, 18.3, 13.4, 8.1,\n",
    "    8.3, 16.4, 12.7, 8.9, 18.2, 13.1, 7.8,\n",
    "    16.6, 12.5,20.3,20.5,20.8,30.1,22.4,27.6\n",
    "]\n",
    "\n",
    "# Converting temperatures from Celsius to Fahrenheit\n",
    "temperatures_fahrenheit = [(temp * 9/5) + 32 for temp in temperatures]\n",
    "\n",
    "# Print the converted temperatures(Fahrenheit Values)\n",
    "\n",
    "print(\"Converted Temperatures in Fahrenheit:\", temperatures_fahrenheit)\n"
   ]
  },
  {
   "cell_type": "code",
   "execution_count": 150,
   "id": "57856a61-bab3-4541-8293-bf9558c9f204",
   "metadata": {},
   "outputs": [
    {
     "name": "stdout",
     "output_type": "stream",
     "text": [
      "The average daytime temperature is: 16.01°C\n"
     ]
    }
   ],
   "source": [
    "#Task 4. Analyze Temperature Patterns by Time of Day:\n",
    " # Scenario: Each day’s readings are grouped as:\n",
    " # • Night (00-08),\n",
    " # • Evening (08-16),\n",
    " # • Day (16-24).\n",
    " # 1. Create empty lists for night, day, and evening temperatures.\n",
    " # 2. Iterate over the temperatures list, assigning values to each time-of-day list based on\n",
    " # their position.\n",
    " # 3. Calculate and print the average day-time temperature.\n",
    " # 4. (Optional) Plot ”day vs. temperature” using matplotlib\n",
    "\n",
    "temperatures = [\n",
    "    8.2, 17.4, 14.1, 7.9, 18.0, 13.5, 9.0, 17.8, 13.0, 8.5,\n",
    "    16.5, 12.9, 7.7, 17.2, 13.3, 8.4, 16.7, 14.0, 9.5, 18.3, 13.4, 8.1,\n",
    "    8.3, 16.4, 12.7, 8.9, 18.2, 13.1, 7.8,\n",
    "    16.6, 12.5,20.3,20.5,20.8,30.1,22.4,27.6\n",
    "]\n",
    "\n",
    "night_temps = []\n",
    "evening_temps = []\n",
    "day_temps = []\n",
    "\n",
    "for i, temp in enumerate(temperatures):\n",
    "    if i < 8:  # Night (00:00 - 08:00)\n",
    "        night_temps.append(temp)\n",
    "    elif 8 <= i < 16:  # Evening (08:00 - 16:00)\n",
    "        evening_temps.append(temp)\n",
    "    else:  # Day (16:00 - 24:00)\n",
    "        day_temps.append(temp)\n",
    "\n",
    "if day_temps:  # Ensure there are daytime temperatures\n",
    "    avg_day_temp = sum(day_temps) / len(day_temps)\n",
    "    print(f\"The average daytime temperature is: {avg_day_temp:.2f}°C\")\n",
    "else:\n",
    "    print(\"No daytime temperatures available.\")\n"
   ]
  },
  {
   "cell_type": "code",
   "execution_count": 151,
   "id": "f2f17bf2-edf9-418c-b434-63b62814d106",
   "metadata": {},
   "outputs": [
    {
     "data": {
      "image/png": "[encoded data removed]",
      "text/plain": [
       "<Figure size 640x480 with 1 Axes>"
      ]
     },
     "metadata": {},
     "output_type": "display_data"
    }
   ],
   "source": [
    "# (Optional)  \"Day vs. Temperature\" Plot using matplotlib\n",
    "\n",
    "temperatures = [\n",
    "    8.2, 17.4, 14.1, 7.9, 18.0, 13.5, 9.0, 17.8, 13.0, 8.5,\n",
    "    16.5, 12.9, 7.7, 17.2, 13.3, 8.4, 16.7, 14.0, 9.5, 18.3, 13.4, 8.1,\n",
    "    8.3, 16.4, 12.7, 8.9, 18.2, 13.1, 7.8,\n",
    "    16.6, 12.5,20.3,20.5,20.8,30.1,22.4,27.6\n",
    "]\n",
    "\n",
    "import matplotlib.pyplot as plt\n",
    "# Plot the day temperatures\n",
    "plt.plot(range(1, len(day_temps) + 1), day_temps, marker='o', color='b')\n",
    "plt.title('Day vs Temperature')\n",
    "plt.xlabel('Day')\n",
    "plt.ylabel('Temperature (°C)')\n",
    "plt.show()\n"
   ]
  },
  {
   "cell_type": "code",
   "execution_count": 152,
   "id": "5c41bb38-2b87-4053-8ad5-f40576dc6834",
   "metadata": {},
   "outputs": [],
   "source": [
    "#Task1 Task 1- Sum of Nested Lists:\n",
    " # Scenario: You have a list that contains numbers and other lists of numbers (nested lists).\n",
    " # You want to find the total sum of all the numbers in this structure.\n",
    " # Task:\n",
    " # • Write a recursive function sum_nested_list(nested_list) that:\n",
    " # 1. Takes a nested list (a list that can contain numbers or other lists of numbers) as\n",
    " # input.\n",
    " # 2. Sums all numbers at every depth level of the list, regardless of how deeply nested\n",
    " # the numbers are.\n",
    " # • Test the function with a sample nested list, such as\n",
    " # nested_list = [1, [2, [3, 4], 5], 6, [7, 8]].\n",
    " # The result should be the total sum of all the numbers\n",
    "\n",
    "def sum_nested_list(nested_list):\n",
    "    total = 0\n",
    "    for element in nested_list:\n",
    "        if isinstance(element, list):  # If the element is a list, recurse into it\n",
    "            total += sum_nested_list(element)  # Recursive call to sum nested lists\n",
    "        else:\n",
    "            total += element  # Add the number to the total\n",
    "    return total"
   ]
  },
  {
   "cell_type": "code",
   "execution_count": 153,
   "id": "b60de310-dd54-480d-a8ef-0469fbd332da",
   "metadata": {},
   "outputs": [
    {
     "name": "stdout",
     "output_type": "stream",
     "text": [
      "47\n"
     ]
    }
   ],
   "source": [
    "#with sample nested list\n",
    "nested_list = [3, [6, [5, 8], 9], 1, [7, 8]]\n",
    "result = sum_nested_list(nested_list)\n",
    "print(result)"
   ]
  },
  {
   "cell_type": "code",
   "execution_count": 154,
   "id": "fea5d972-dfe9-4c3d-92ab-51347ba8db8d",
   "metadata": {},
   "outputs": [],
   "source": [
    "#Task2 GenerateAllPermutationsofaString:\n",
    " # Scenario:Givenastring,generateallpossiblepermutationsof itscharacters.Thisisuseful\n",
    " # forunderstandingbacktrackingandrecursivedepth-firstsearch.\n",
    " # Task:\n",
    " # •Writearecursivefunctiongenerate_permutations(s)that:–Takesastringsasinputandreturnsalistofalluniquepermutations.\n",
    " # •Testwithstringslike”abc”and”aab”.\n",
    " # print(generate_permutations(\"abc\"))\n",
    " # Shouldreturn [’abc’, ’acb’, ’bac’, ’bca’,’cab’, ’cba’]\n",
    "\n",
    "\n",
    "#To generate all possible unique permutations of its characters using recursion.\n",
    "def generate_permutations(b):\n",
    "    # if the string is empty or only one character, return the string itself\n",
    "    if len(b) <= 1:\n",
    "        return [b]\n",
    "\n",
    "    unique_permutations = set()  # Using set to avoid duplicate permutations\n",
    "    for i in range(len(b)):\n",
    "        # For each character in the string, generate permutations of the remaining characters\n",
    "        remaining = b[:i] + b[i+1:]\n",
    "        for perm in generate_permutations(remaining):\n",
    "            unique_permutations.add(b[i] + perm)  # Add the current character to each permutation\n",
    "\n",
    "    return list(unique_permutations)"
   ]
  },
  {
   "cell_type": "code",
   "execution_count": 155,
   "id": "d642525a-714e-4e8c-9034-f86840cd9f93",
   "metadata": {},
   "outputs": [
    {
     "name": "stdout",
     "output_type": "stream",
     "text": [
      "['bac', 'bca', 'abc', 'acb', 'cab', 'cba']\n",
      "['aba', 'baa', 'aab']\n"
     ]
    }
   ],
   "source": [
    "# Test with the string \"abc\"\n",
    "print(generate_permutations(\"abc\"))\n",
    "\n",
    "# Test with the string \"aab\"\n",
    "print(generate_permutations(\"aab\"))\n"
   ]
  },
  {
   "cell_type": "code",
   "execution_count": 156,
   "id": "b462c98d-074e-4ab3-9266-6ae94bbdc323",
   "metadata": {},
   "outputs": [],
   "source": [
    "#Task3 DirectorySizeCalculation:\n",
    " # DirectorySizeCalculationScenario: Imagineafilesystemwheredirectoriescancontainfiles\n",
    " # (withsizesinKB)andotherdirectories.Youwanttocalculatethetotalsizeofadirectory,\n",
    " # includingallnestedfilesandsubdirectories.\n",
    "#  1. Write a recursive function calculate_directory_size(directory) where:\n",
    "#  • directory is a dictionary where keys represent file names (with values as sizes in\n",
    "#  KB) or directory names (with values as another dictionary representing a subdi\n",
    "# rectory).\n",
    "#  • The function should return the total size of the directory, including all nested\n",
    "#  subdirectories.\n",
    "#  2. Test the function with a sample directory structure\n",
    "\n",
    "#Recursively calculates the total size of a directory, including nested files and subdirectories.\n",
    "def calculate_directory_size(directory):\n",
    "    total_size = 0  # Initialize the total size\n",
    "\n",
    "    for key, value in directory.items():\n",
    "        if isinstance(value, int):  # If it's a file, add its size\n",
    "            total_size += value\n",
    "        elif isinstance(value, dict):  # If it's a subdirectory, recurse\n",
    "            total_size += calculate_directory_size(value)\n",
    "\n",
    "    return total_size"
   ]
  },
  {
   "cell_type": "code",
   "execution_count": 157,
   "id": "53d1e83c-d8b7-4c45-bf14-54d5f21c615f",
   "metadata": {},
   "outputs": [],
   "source": [
    "directory_structure = {\n",
    "    \"file1.txt\": 250,#250KB file\n",
    "    \"file2.txt\": 390,\n",
    "    \"subdir1\": {\n",
    "        \"file3.txt\": 400,\n",
    "        \"file4.txt\": 100\n",
    "    },\n",
    "    \"subdir2\": {\n",
    "        \"subsubdir1\": {\n",
    "            \"file5.txt\": 290\n",
    "        },\n",
    "        \"file6.txt\": 150\n",
    "    }\n",
    "}"
   ]
  },
  {
   "cell_type": "code",
   "execution_count": 158,
   "id": "12731090-9918-4d51-bbd2-d19f01c50907",
   "metadata": {},
   "outputs": [
    {
     "name": "stdout",
     "output_type": "stream",
     "text": [
      "Total directory size: 1580KB \n"
     ]
    }
   ],
   "source": [
    "# Testing the function\n",
    "total_size = calculate_directory_size(directory_structure)\n",
    "print(f\"Total directory size: {total_size}KB \")\n"
   ]
  },
  {
   "cell_type": "code",
   "execution_count": 159,
   "id": "938223b9-aaa1-43c1-a619-ff3a754a0d75",
   "metadata": {},
   "outputs": [],
   "source": [
    "#Task1 Dynamic Progamming\n",
    " # Coin Change Problem:\n",
    " # Scenario: Given a set of coin denominations and a target amount, find the minimum number\n",
    " # of coins needed to make the amount. If it’s not possible, return- 1.\n",
    " # Task:\n",
    " # 1. Write a function min_coins(coins, amount) that:\n",
    " # • Uses DP to calculate the minimum number of coins needed to make up the\n",
    " # amount.\n",
    " # 2. Test with coins = [1, 2, 5] and amount = 11. The result should be 3 (using coins\n",
    " # [5, 5, 1]).\n",
    "\n",
    "\n",
    "def min_coins(coins, amount):\n",
    "    # Initialize dp array where dp[i] will store the minimum number of coins needed for amount i\n",
    "    dp = [float(\"inf\")] * (amount + 1)  # Start with infinity (unreachable values)\n",
    "    dp[0] = 0  # 0 coins needed to make 0 amount\n",
    "    \n",
    "    # Iterate over all coin denominations\n",
    "    for coin in coins:\n",
    "        for i in range(coin, amount + 1):\n",
    "            dp[i] = min(dp[i], dp[i - coin] + 1)\n",
    "    \n",
    "    #  If dp[amount] is still infinity, return -1, otherwise return dp[amount]\n",
    "    return dp[amount] if dp[amount] != float(\"inf\") else -1\n"
   ]
  },
  {
   "cell_type": "code",
   "execution_count": 160,
   "id": "075721ad-3b33-4609-9fff-69ede0d23438",
   "metadata": {},
   "outputs": [
    {
     "name": "stdout",
     "output_type": "stream",
     "text": [
      "Minimum coins to make 11 is: 3\n"
     ]
    }
   ],
   "source": [
    "# Test the function with the given example\n",
    "coins = [1, 2, 5]\n",
    "amount = 11\n",
    "result = min_coins(coins, amount)\n",
    "print(f\"Minimum coins to make {amount} is: {result}\")"
   ]
  },
  {
   "cell_type": "code",
   "execution_count": 161,
   "id": "c5d72bb5-8050-4018-ac2b-4e3a9ad2aebc",
   "metadata": {},
   "outputs": [],
   "source": [
    "#Task2 LongestCommonSubsequence(LCS):\n",
    " # Scenario: Giventwostrings, findthe lengthof their longestcommonsubsequence(LCS).\n",
    " # Thisisuseful intextcomparison.\n",
    " # Task:\n",
    " # 1.Writeafunctionlongest_common_subsequence(s1,s2)that:\n",
    " # •UsesDPtofindthelengthoftheLCSoftwostringss1ands2.\n",
    " # 2. Testwithstringslike\"abcde\" and \"ace\";theLCSlengthshouldbe3 (\"ace\").\n",
    "\n",
    "\n",
    "def longest_common_subsequence(a1, a2):\n",
    "    m, n = len(a1), len(a2)\n",
    "    \n",
    "    # Create a 2D dp table with (m+1) x (n+1) dimensions\n",
    "    dp = [[0] * (n + 1) for _ in range(m + 1)]\n",
    "    \n",
    "    # Fill the dp table using the standard LCS approach\n",
    "    for i in range(1, m + 1):  # Iterate through string a1\n",
    "        for j in range(1, n + 1):  # Iterate through string a2\n",
    "            if a1[i - 1] == a2[j - 1]:  # Characters match\n",
    "                dp[i][j] = dp[i - 1][j - 1] + 1\n",
    "            else:  # Characters do not match\n",
    "                dp[i][j] = max(dp[i - 1][j], dp[i][j - 1])\n",
    "    \n",
    "    # The LCS length is found at dp[m][n]\n",
    "    return dp[m][n]\n"
   ]
  },
  {
   "cell_type": "code",
   "execution_count": 162,
   "id": "6c6ae2fc-8367-43d3-b852-412f14923b16",
   "metadata": {},
   "outputs": [
    {
     "name": "stdout",
     "output_type": "stream",
     "text": [
      "The length of the LCS is: 3\n"
     ]
    }
   ],
   "source": [
    "# Test the function with the given strings \"abcde\" and \"ace\"\n",
    "a1 = \"abcde\"\n",
    "a2 = \"ace\"\n",
    "result = longest_common_subsequence(a1, a2)\n",
    "print(f\"The length of the LCS is: {result}\")"
   ]
  },
  {
   "cell_type": "code",
   "execution_count": 163,
   "id": "5c96d9d1-aa52-4e3d-83db-d32eb0df1bc7",
   "metadata": {},
   "outputs": [],
   "source": [
    "#Task3 Knapsack Probelm\n",
    "#  Scenario: You have a list of items, each with a weight and a value. Given a weight capacity,\n",
    "#  maximize the total value of items you can carry without exceeding the weight capacity.\n",
    "#  Task:\n",
    "#  1. Write a function knapsack(weights, values, capacity) that:\n",
    "#  • Uses DP to determine the maximum value that can be achieved within the given\n",
    "#  weight capacity.\n",
    "#  2. Test with weights [1, 3, 4, 5], values [1, 4, 5, 7], and capacity 7. The re\n",
    "# sult should be 9\n",
    "\n",
    "\n",
    "def knapsack(weights, values, capacity):\n",
    "    n = len(weights)\n",
    "    # Create a DP table\n",
    "    dp = [[0] * (capacity + 1) for _ in range(n + 1)]\n",
    "    \n",
    "    #Fill the DP table\n",
    "    for i in range(1, n + 1):\n",
    "        for j in range(1, capacity + 1):\n",
    "            if weights[i - 1] <= j:\n",
    "                dp[i][j] = max(dp[i - 1][j], dp[i - 1][j - weights[i - 1]] + values[i - 1])\n",
    "            else:\n",
    "                dp[i][j] = dp[i - 1][j]\n",
    "    # The maximum value is found at dp[n][capacity]\n",
    "    return dp[n][capacity]"
   ]
  },
  {
   "cell_type": "code",
   "execution_count": 164,
   "id": "5301d873-1f1d-4439-af77-0703ffd6d774",
   "metadata": {},
   "outputs": [
    {
     "name": "stdout",
     "output_type": "stream",
     "text": [
      "The maximum value that can be obtained is: 12\n"
     ]
    }
   ],
   "source": [
    "# Test the function with the given example\n",
    "weights = [1, 12, 6, 5]\n",
    "values = [1, 4, 8, 11]\n",
    "capacity = 7\n",
    "result = knapsack(weights, values, capacity)\n",
    "print(f\"The maximum value that can be obtained is: {result}\")\n"
   ]
  }
 ],
 "metadata": {
  "kernelspec": {
   "display_name": "Python 3 (ipykernel)",
   "language": "python",
   "name": "python3"
  },
  "language_info": {
   "codemirror_mode": {
    "name": "ipython",
    "version": 3
   },
   "file_extension": ".py",
   "mimetype": "text/x-python",
   "name": "python",
   "nbconvert_exporter": "python",
   "pygments_lexer": "ipython3",
   "version": "3.12.7"
  }
 },
 "nbformat": 4,
 "nbformat_minor": 5
}
