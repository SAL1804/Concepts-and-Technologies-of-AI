{
 "cells": [
  {
   "cell_type": "code",
   "execution_count": 25,
   "id": "03546aa5-6fef-4b2e-8820-a8f0657edb36",
   "metadata": {},
   "outputs": [],
   "source": [
    "#Task1 Dynamic Progamming\n",
    " # Coin Change Problem:\n",
    " # Scenario: Given a set of coin denominations and a target amount, find the minimum number\n",
    " # of coins needed to make the amount. If it’s not possible, return- 1.\n",
    " # Task:\n",
    " # 1. Write a function min_coins(coins, amount) that:\n",
    " # • Uses DP to calculate the minimum number of coins needed to make up the\n",
    " # amount.\n",
    " # 2. Test with coins = [1, 2, 5] and amount = 11. The result should be 3 (using coins\n",
    " # [5, 5, 1]).\n",
    "\n",
    "\n",
    "def min_coins(coins, amount):\n",
    "    # Initialize dp array where dp[i] will store the minimum number of coins needed for amount i\n",
    "    dp = [float(\"inf\")] * (amount + 1)  # Start with infinity (unreachable values)\n",
    "    dp[0] = 0  # 0 coins needed to make 0 amount\n",
    "    \n",
    "    # Iterate over all coin denominations\n",
    "    for coin in coins:\n",
    "        for i in range(coin, amount + 1):\n",
    "            dp[i] = min(dp[i], dp[i - coin] + 1)\n",
    "    \n",
    "    #  If dp[amount] is still infinity, return -1, otherwise return dp[amount]\n",
    "    return dp[amount] if dp[amount] != float(\"inf\") else -1\n",
    "\n"
   ]
  },
  {
   "cell_type": "code",
   "execution_count": 26,
   "id": "0e675cfe-957a-40fb-8ea7-55aadbc3803c",
   "metadata": {},
   "outputs": [
    {
     "name": "stdout",
     "output_type": "stream",
     "text": [
      "Minimum coins to make 11 is: 3\n"
     ]
    }
   ],
   "source": [
    "# Test the function with the given example\n",
    "coins = [1, 2, 5]\n",
    "amount = 11\n",
    "result = min_coins(coins, amount)\n",
    "print(f\"Minimum coins to make {amount} is: {result}\")"
   ]
  },
  {
   "cell_type": "code",
   "execution_count": 27,
   "id": "be1826ab-cd74-4d94-ba32-c0bbecfe1d2d",
   "metadata": {},
   "outputs": [],
   "source": [
    "#Task2 LongestCommonSubsequence(LCS):\n",
    " # Scenario: Giventwostrings, findthe lengthof their longestcommonsubsequence(LCS).\n",
    " # Thisisuseful intextcomparison.\n",
    " # Task:\n",
    " # 1.Writeafunctionlongest_common_subsequence(s1,s2)that:\n",
    " # •UsesDPtofindthelengthoftheLCSoftwostringss1ands2.\n",
    " # 2. Testwithstringslike\"abcde\" and \"ace\";theLCSlengthshouldbe3 (\"ace\").\n",
    "\n",
    "\n",
    "def longest_common_subsequence(a1, a2):\n",
    "    m, n = len(a1), len(a2)\n",
    "    \n",
    "    # Create a 2D dp table with (m+1) x (n+1) dimensions\n",
    "    dp = [[0] * (n + 1) for _ in range(m + 1)]\n",
    "    \n",
    "    # Fill the dp table using the standard LCS approach\n",
    "    for i in range(1, m + 1):  # Iterate through string a1\n",
    "        for j in range(1, n + 1):  # Iterate through string a2\n",
    "            if a1[i - 1] == a2[j - 1]:  # Characters match\n",
    "                dp[i][j] = dp[i - 1][j - 1] + 1\n",
    "            else:  # Characters do not match\n",
    "                dp[i][j] = max(dp[i - 1][j], dp[i][j - 1])\n",
    "    \n",
    "    # The LCS length is found at dp[m][n]\n",
    "    return dp[m][n]\n",
    "\n",
    "\n",
    "\n",
    "    "
   ]
  },
  {
   "cell_type": "code",
   "execution_count": 28,
   "id": "f54e2a9d-b342-4c10-a440-31cef25b8f0e",
   "metadata": {},
   "outputs": [
    {
     "name": "stdout",
     "output_type": "stream",
     "text": [
      "The length of the LCS is: 3\n"
     ]
    }
   ],
   "source": [
    "# Test the function with the given strings \"abcde\" and \"ace\"\n",
    "a1 = \"abcde\"\n",
    "a2 = \"ace\"\n",
    "result = longest_common_subsequence(a1, a2)\n",
    "print(f\"The length of the LCS is: {result}\")"
   ]
  },
  {
   "cell_type": "code",
   "execution_count": 29,
   "id": "ef2998f1-5c9a-430c-b282-f2db582120c4",
   "metadata": {},
   "outputs": [],
   "source": [
    "#Task3 Knapsack Probelm\n",
    "#  Scenario: You have a list of items, each with a weight and a value. Given a weight capacity,\n",
    "#  maximize the total value of items you can carry without exceeding the weight capacity.\n",
    "#  Task:\n",
    "#  1. Write a function knapsack(weights, values, capacity) that:\n",
    "#  • Uses DP to determine the maximum value that can be achieved within the given\n",
    "#  weight capacity.\n",
    "#  2. Test with weights [1, 3, 4, 5], values [1, 4, 5, 7], and capacity 7. The re\n",
    "# sult should be 9\n",
    "\n",
    "\n",
    "def knapsack(weights, values, capacity):\n",
    "    n = len(weights)\n",
    "    # Create a DP table\n",
    "    dp = [[0] * (capacity + 1) for _ in range(n + 1)]\n",
    "    \n",
    "    #Fill the DP table\n",
    "    for i in range(1, n + 1):\n",
    "        for j in range(1, capacity + 1):\n",
    "            if weights[i - 1] <= j:\n",
    "                dp[i][j] = max(dp[i - 1][j], dp[i - 1][j - weights[i - 1]] + values[i - 1])\n",
    "            else:\n",
    "                dp[i][j] = dp[i - 1][j]\n",
    "    # The maximum value is found at dp[n][capacity]\n",
    "    return dp[n][capacity]"
   ]
  },
  {
   "cell_type": "code",
   "execution_count": 30,
   "id": "e4d96cd7-5630-4765-98d9-1d34d76126a6",
   "metadata": {},
   "outputs": [
    {
     "name": "stdout",
     "output_type": "stream",
     "text": [
      "The maximum value that can be obtained is: 12\n"
     ]
    }
   ],
   "source": [
    "# Test the function with the given example\n",
    "weights = [1, 12, 6, 5]\n",
    "values = [1, 4, 8, 11]\n",
    "capacity = 7\n",
    "result = knapsack(weights, values, capacity)\n",
    "print(f\"The maximum value that can be obtained is: {result}\")\n"
   ]
  }
 ],
 "metadata": {
  "kernelspec": {
   "display_name": "Python 3 (ipykernel)",
   "language": "python",
   "name": "python3"
  },
  "language_info": {
   "codemirror_mode": {
    "name": "ipython",
    "version": 3
   },
   "file_extension": ".py",
   "mimetype": "text/x-python",
   "name": "python",
   "nbconvert_exporter": "python",
   "pygments_lexer": "ipython3",
   "version": "3.12.7"
  }
 },
 "nbformat": 4,
 "nbformat_minor": 5
}
